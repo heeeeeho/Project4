{
  "cells": [
    {
      "cell_type": "code",
      "execution_count": 1,
      "metadata": {
        "id": "GQ1KWP2wFFh-"
      },
      "outputs": [],
      "source": [
        "import os, glob\n",
        "import numpy as np\n",
        "import tensorflow as tf\n",
        "from PIL import Image\n",
        "\n",
        "from sklearn.model_selection import train_test_split\n",
        "\n",
        "from keras.layers import MaxPooling2D\n",
        "from keras.layers import Conv2D\n",
        "from keras.models import Model\n",
        "from keras.layers import Activation, Dropout, Flatten, Dense, Input, BatchNormalization, Concatenate, GlobalAveragePooling2D\n",
        "from keras.callbacks import EarlyStopping\n",
        "from keras.callbacks import ModelCheckpoint\n",
        "\n",
        "from tensorflow.keras.applications.resnet50 import ResNet50\n",
        "\n",
        "from keras.preprocessing.image import ImageDataGenerator\n",
        "from tensorflow.keras.utils import img_to_array, load_img, array_to_img"
      ]
    },
    {
      "cell_type": "code",
      "execution_count": 2,
      "metadata": {
        "colab": {
          "base_uri": "https://localhost:8080/"
        },
        "id": "1TF_ZS3-Fcl_",
        "outputId": "4965f817-6b1f-4cf0-8f4f-07534fb0b941"
      },
      "outputs": [],
      "source": [
        "# from google.colab import drive\n",
        "# drive.mount('/content/drive')"
      ]
    },
    {
      "cell_type": "code",
      "execution_count": 3,
      "metadata": {
        "id": "bd-HzkvHFFh_"
      },
      "outputs": [],
      "source": [
        "# seed 고정\n",
        "seed = 42"
      ]
    },
    {
      "cell_type": "code",
      "execution_count": 4,
      "metadata": {
        "id": "fZxNRpgiw-9W"
      },
      "outputs": [],
      "source": [
        "# folder_list = os.listdir('./drive/MyDrive/faces/남자')\n",
        "folder_list = os.listdir('./faces/남자')"
      ]
    },
    {
      "cell_type": "code",
      "execution_count": 7,
      "metadata": {
        "id": "R_7mTwADuHto"
      },
      "outputs": [],
      "source": [
        "# # 이미지 증강용\n",
        "# def IDG(fname): #파일이름을 변수로 받는 ImageDataGenerator함수\n",
        "#    ImageDG = ImageDataGenerator(\n",
        "#        rescale = 1. / 255, # 이미지 value 정규화화\n",
        "#        rotation_range = 90, # 무작위 회전의 각도 범위\n",
        "#        brightness_range = [0.3,1.0], # 밝기 범위위\n",
        "#        fill_mode='nearest' # 인풋 경계의 바깥공간 채우는 방식\n",
        "#        )\n",
        "   \n",
        "#    img = tf.keras.preprocessing.image.load_img(fname) # 이미지파일로 변환\n",
        "#    x = img_to_array(img)\n",
        "#    x = x.reshape((1,) + x.shape)\n",
        "#    i=1\n",
        "#    save = fname.split('/')[0] + \"/\" + fname.split('/')[1] + \"/\" + fname.split('/')[2] + \"/\" + fname.split('/')[3]\n",
        "#    # 생성된 파일 저장경로\n",
        "#    for batch in ImageDG.flow(x, batch_size=1, save_to_dir = save, save_prefix='new'+fname.split('/')[3], save_format='png'):\n",
        "#        i+=1\n",
        "#        if i>=10: # 새로 생성되는 데이터 개수 정해주기\n",
        "#            break"
      ]
    },
    {
      "cell_type": "code",
      "execution_count": 8,
      "metadata": {
        "id": "swUIrxuzuKgf"
      },
      "outputs": [],
      "source": [
        "# # 이미지 증강용\n",
        "# folder_list = os.listdir('./faces/남자')\n",
        "# fname =  './faces/남자/'\n",
        "# for f in folder_list:\n",
        "#     fname =  './faces/남자/' + f +\"/\"\n",
        "#     file_list = os.listdir(fname)\n",
        "#     for i in file_list:\n",
        "#         filename = fname + i\n",
        "#         IDG(filename)"
      ]
    },
    {
      "cell_type": "code",
      "execution_count": 4,
      "metadata": {
        "id": "Ym_ghjjLFFh_"
      },
      "outputs": [],
      "source": [
        "# 분류 대상 카테고리 선택하기 \n",
        "faces_dir = './faces/남자'\n",
        "man_categories = [\n",
        "    '견우','서준','수호','시호','준우','태양','태호','혜성'\n",
        "]\n",
        "nb_classes = len(man_categories)\n",
        "# 이미지 크기 지정 \n",
        "image_w = 256\n",
        "image_h = 256\n",
        "pixels = image_w * image_h * 3\n",
        "# 이미지 데이터 읽어 들이기 \n",
        "X = []\n",
        "Y = []\n",
        "for idx, cat in enumerate(man_categories):\n",
        "    # 레이블 지정 \n",
        "    label = [0 for i in range(nb_classes)]\n",
        "    label[idx] = 1\n",
        "    # 이미지 \n",
        "    image_dir = faces_dir + \"/\" + cat\n",
        "    files = glob.glob(image_dir+\"/*.png\")\n",
        "    for i, f in enumerate(files):\n",
        "        img = Image.open(f)\n",
        "        img = img.convert(\"RGB\")\n",
        "        img = img.resize((image_w, image_h))\n",
        "        data = np.asarray(img)      # numpy 배열로 변환\n",
        "        X.append(data)\n",
        "        Y.append(label)\n",
        "X = np.array(X)\n",
        "Y = np.array(Y)"
      ]
    },
    {
      "cell_type": "code",
      "execution_count": 5,
      "metadata": {
        "colab": {
          "base_uri": "https://localhost:8080/"
        },
        "id": "UXqN5B8lAogX",
        "outputId": "d2fb2522-c843-4198-94cb-658d008e5e46"
      },
      "outputs": [
        {
          "name": "stdout",
          "output_type": "stream",
          "text": [
            "(5068, 256, 256, 3)\n",
            "(5068, 8)\n"
          ]
        }
      ],
      "source": [
        "print(X.shape)\n",
        "print(Y.shape)"
      ]
    },
    {
      "cell_type": "code",
      "execution_count": 6,
      "metadata": {},
      "outputs": [],
      "source": [
        "# X_std = X/255.0"
      ]
    },
    {
      "cell_type": "code",
      "execution_count": 7,
      "metadata": {
        "colab": {
          "base_uri": "https://localhost:8080/"
        },
        "id": "QlhABA1FGjCS",
        "outputId": "bf8a49c8-0e36-4922-fef7-b52b31c6ff15"
      },
      "outputs": [],
      "source": [
        "resnet = ResNet50(weights='imagenet', include_top=False)"
      ]
    },
    {
      "cell_type": "code",
      "execution_count": 8,
      "metadata": {
        "id": "c3Hq29R_GzEZ"
      },
      "outputs": [],
      "source": [
        "for layer in resnet.layers:\n",
        "    layer.trainable = False"
      ]
    },
    {
      "cell_type": "code",
      "execution_count": 9,
      "metadata": {
        "id": "uBl2zicPGg_B"
      },
      "outputs": [],
      "source": [
        "inputs = Input(shape=(256,256,3))\n",
        "res = resnet(inputs)\n",
        "gap = GlobalAveragePooling2D()(res)\n",
        "dense = Dense(128, activation='relu')(gap)\n",
        "outputs = Dense(nb_classes, activation='softmax')(dense)"
      ]
    },
    {
      "cell_type": "code",
      "execution_count": 10,
      "metadata": {
        "id": "fK2R6NqYFFiA"
      },
      "outputs": [],
      "source": [
        "model = Model(inputs=inputs, outputs=outputs)"
      ]
    },
    {
      "cell_type": "code",
      "execution_count": 11,
      "metadata": {
        "colab": {
          "base_uri": "https://localhost:8080/"
        },
        "id": "4AJG5FZNFFiB",
        "outputId": "9d3ff882-16ba-4ce2-b06f-e9cfc4afb0de"
      },
      "outputs": [
        {
          "name": "stdout",
          "output_type": "stream",
          "text": [
            "Model: \"model\"\n",
            "_________________________________________________________________\n",
            " Layer (type)                Output Shape              Param #   \n",
            "=================================================================\n",
            " input_2 (InputLayer)        [(None, 256, 256, 3)]     0         \n",
            "                                                                 \n",
            " resnet50 (Functional)       (None, None, None, 2048)  23587712  \n",
            "                                                                 \n",
            " global_average_pooling2d (G  (None, 2048)             0         \n",
            " lobalAveragePooling2D)                                          \n",
            "                                                                 \n",
            " dense (Dense)               (None, 128)               262272    \n",
            "                                                                 \n",
            " dense_1 (Dense)             (None, 8)                 1032      \n",
            "                                                                 \n",
            "=================================================================\n",
            "Total params: 23,851,016\n",
            "Trainable params: 263,304\n",
            "Non-trainable params: 23,587,712\n",
            "_________________________________________________________________\n",
            "None\n"
          ]
        }
      ],
      "source": [
        "# 모델 확인\n",
        "print(model.summary())"
      ]
    },
    {
      "cell_type": "code",
      "execution_count": 12,
      "metadata": {
        "id": "hwof9hYoFFiB"
      },
      "outputs": [],
      "source": [
        "model.compile(loss='categorical_crossentropy',\n",
        "    optimizer='adam',\n",
        "    metrics=['accuracy'])"
      ]
    },
    {
      "cell_type": "code",
      "execution_count": 13,
      "metadata": {
        "id": "Y6C8MVz5FFiB"
      },
      "outputs": [],
      "source": [
        "# 학습 전용 데이터와 테스트 전용 데이터 구분 \n",
        "X_train, X_test, y_train, y_test = \\\n",
        "    train_test_split(X_std, Y, random_state=seed, test_size=0.2)"
      ]
    },
    {
      "cell_type": "code",
      "execution_count": 14,
      "metadata": {
        "colab": {
          "base_uri": "https://localhost:8080/"
        },
        "id": "HxX0dPz_FFiB",
        "outputId": "81c5eaf6-dca5-49d9-be28-7be0e2d34fc6"
      },
      "outputs": [
        {
          "name": "stdout",
          "output_type": "stream",
          "text": [
            "0    873\n",
            "1    141\n",
            "Name: 0, dtype: int64\n",
            "0    880\n",
            "1    134\n",
            "Name: 1, dtype: int64\n",
            "0    888\n",
            "1    126\n",
            "Name: 2, dtype: int64\n",
            "0    901\n",
            "1    113\n",
            "Name: 3, dtype: int64\n",
            "0    899\n",
            "1    115\n",
            "Name: 4, dtype: int64\n",
            "0    899\n",
            "1    115\n",
            "Name: 5, dtype: int64\n",
            "0    868\n",
            "1    146\n",
            "Name: 6, dtype: int64\n",
            "0    890\n",
            "1    124\n",
            "Name: 7, dtype: int64\n"
          ]
        }
      ],
      "source": [
        "# 클래스 포함 확인\n",
        "import pandas as pd\n",
        "for i in range(len(pd.DataFrame(y_test).columns)):\n",
        "    print(pd.DataFrame(y_test)[i].value_counts())"
      ]
    },
    {
      "cell_type": "code",
      "execution_count": 15,
      "metadata": {
        "id": "m5N1gWZP_SGX"
      },
      "outputs": [],
      "source": [
        "# checkpoint_filepath = \"MFMbest.hdf5\"\n",
        "\n",
        "# early_stop = tf.keras.callbacks.EarlyStopping(monitor='val_loss', min_delta=0, patience=3, verbose=1)\n",
        "\n",
        "# save_best = tf.keras.callbacks.ModelCheckpoint(\n",
        "#     filepath=checkpoint_filepath, monitor='val_loss', verbose=1, save_best_only=True,\n",
        "#     save_weights_only=True, mode='auto', save_freq='epoch', options=None)"
      ]
    },
    {
      "cell_type": "code",
      "execution_count": 16,
      "metadata": {},
      "outputs": [
        {
          "data": {
            "text/plain": [
              "(4054, 256, 256, 3)"
            ]
          },
          "execution_count": 16,
          "metadata": {},
          "output_type": "execute_result"
        }
      ],
      "source": [
        "X_train.shape"
      ]
    },
    {
      "cell_type": "code",
      "execution_count": 17,
      "metadata": {},
      "outputs": [
        {
          "data": {
            "text/plain": [
              "(1014, 256, 256, 3)"
            ]
          },
          "execution_count": 17,
          "metadata": {},
          "output_type": "execute_result"
        }
      ],
      "source": [
        "X_test.shape"
      ]
    },
    {
      "cell_type": "code",
      "execution_count": 18,
      "metadata": {
        "colab": {
          "base_uri": "https://localhost:8080/",
          "height": 1000
        },
        "id": "OmgKRjCqFFiC",
        "outputId": "ed8c2c50-c769-42ac-c08e-b8a7c26cca74"
      },
      "outputs": [
        {
          "name": "stdout",
          "output_type": "stream",
          "text": [
            "Epoch 1/10\n",
            "127/127 [==============================] - 360s 3s/step - loss: 1.6967 - accuracy: 0.3493 - val_loss: 1.4193 - val_accuracy: 0.4941\n",
            "Epoch 2/10\n",
            "127/127 [==============================] - 331s 3s/step - loss: 1.3475 - accuracy: 0.5010 - val_loss: 1.1674 - val_accuracy: 0.5848\n",
            "Epoch 3/10\n",
            "127/127 [==============================] - 338s 3s/step - loss: 1.1239 - accuracy: 0.6014 - val_loss: 1.0344 - val_accuracy: 0.6134\n",
            "Epoch 4/10\n",
            "127/127 [==============================] - 343s 3s/step - loss: 0.9664 - accuracy: 0.6591 - val_loss: 0.8991 - val_accuracy: 0.6677\n",
            "Epoch 5/10\n",
            "127/127 [==============================] - 350s 3s/step - loss: 0.8605 - accuracy: 0.6998 - val_loss: 0.8025 - val_accuracy: 0.7288\n",
            "Epoch 6/10\n",
            "127/127 [==============================] - 341s 3s/step - loss: 0.7574 - accuracy: 0.7474 - val_loss: 0.7346 - val_accuracy: 0.7367\n",
            "Epoch 7/10\n",
            "127/127 [==============================] - 344s 3s/step - loss: 0.7028 - accuracy: 0.7590 - val_loss: 0.6357 - val_accuracy: 0.7929\n",
            "Epoch 8/10\n",
            "127/127 [==============================] - 360s 3s/step - loss: 0.6421 - accuracy: 0.7805 - val_loss: 0.5866 - val_accuracy: 0.8037\n",
            "Epoch 9/10\n",
            "127/127 [==============================] - 336s 3s/step - loss: 0.5998 - accuracy: 0.7967 - val_loss: 0.5817 - val_accuracy: 0.7909\n",
            "Epoch 10/10\n",
            "127/127 [==============================] - 360s 3s/step - loss: 0.5521 - accuracy: 0.8162 - val_loss: 0.5474 - val_accuracy: 0.8037\n"
          ]
        }
      ],
      "source": [
        "\n",
        "hdf5_file = \"MFMbest.hdf5\"\n",
        "if os.path.exists(hdf5_file):\n",
        "    # 기존에 학습된 모델 불러오기기\n",
        "    model.load_weights(hdf5_file)\n",
        "else:\n",
        "    # 학습한 모델이 없으면 파일로 저장\n",
        "    model.fit(X_train, y_train, batch_size=32, epochs=10, validation_data=(X_test, y_test))\n",
        "    model.save_weights(hdf5_file)"
      ]
    },
    {
      "cell_type": "code",
      "execution_count": null,
      "metadata": {},
      "outputs": [],
      "source": []
    }
  ],
  "metadata": {
    "accelerator": "GPU",
    "colab": {
      "provenance": []
    },
    "gpuClass": "standard",
    "kernelspec": {
      "display_name": "Python 3.9.12 ('base')",
      "language": "python",
      "name": "python3"
    },
    "language_info": {
      "codemirror_mode": {
        "name": "ipython",
        "version": 3
      },
      "file_extension": ".py",
      "mimetype": "text/x-python",
      "name": "python",
      "nbconvert_exporter": "python",
      "pygments_lexer": "ipython3",
      "version": "3.9.12 (main, Apr  4 2022, 05:22:27) [MSC v.1916 64 bit (AMD64)]"
    },
    "orig_nbformat": 4,
    "vscode": {
      "interpreter": {
        "hash": "6c26f6e898609fbfc55f344a153b12e2e0bbde9c2ce650535ffefcc33c127b1e"
      }
    }
  },
  "nbformat": 4,
  "nbformat_minor": 0
}
